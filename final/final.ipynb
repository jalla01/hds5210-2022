{
 "cells": [
  {
   "cell_type": "markdown",
   "metadata": {},
   "source": [
    "# Analysis Based on Covid-19 Symptoms Data"
   ]
  },
  {
   "cell_type": "markdown",
   "metadata": {},
   "source": [
    "For this project, covid-19 symptoms data is used to analyse and understand the covid infection patterns based on the observations present in the selected dataset. This analyis will provide an idea to predict the covid-19 infection."
   ]
  },
  {
   "cell_type": "markdown",
   "metadata": {},
   "source": [
    "# Reading Data Source from Different Sources With Different Format"
   ]
  },
  {
   "cell_type": "code",
   "execution_count": 1,
   "metadata": {},
   "outputs": [
    {
     "data": {
      "text/plain": [
       "(1003, 6)"
      ]
     },
     "execution_count": 1,
     "metadata": {},
     "output_type": "execute_result"
    }
   ],
   "source": [
    "#imported pandas library\n",
    "#Reading Data Source - 1 which is in CSV format and Source: (Here is the Link to the dataset: \"https://www.kaggle.com/datasets/takbiralam/covid19-symptoms-dataset\")\n",
    "import pandas as pd\n",
    "covid= pd.read_csv(\"covid-19_symptoms_dataset.csv\")\n",
    "covid.shape"
   ]
  },
  {
   "cell_type": "code",
   "execution_count": 2,
   "metadata": {},
   "outputs": [
    {
     "data": {
      "text/plain": [
       "(1003, 3)"
      ]
     },
     "execution_count": 2,
     "metadata": {},
     "output_type": "execute_result"
    }
   ],
   "source": [
    "#Reading Data Source - 2 which is in CSV format and Source: Local file\n",
    "# This file has additional details like Diabetes, BloodPressure, Throat_Infection\n",
    "additional_issues= pd.read_csv(\"Additional-Issues.csv\")\n",
    "additional_issues.shape"
   ]
  },
  {
   "cell_type": "code",
   "execution_count": 3,
   "metadata": {},
   "outputs": [
    {
     "data": {
      "text/plain": [
       "(1003, 2)"
      ]
     },
     "execution_count": 3,
     "metadata": {},
     "output_type": "execute_result"
    }
   ],
   "source": [
    "#Reading Data Source - 3 which is in EXCEL format and Source: Local file\n",
    "# This file has details like Death_Probability, Severity\n",
    "file_3= pd.read_excel(\"death_prob.xlsx\")\n",
    "file_3.shape"
   ]
  },
  {
   "cell_type": "markdown",
   "metadata": {},
   "source": [
    "# DATA MERGING"
   ]
  },
  {
   "cell_type": "code",
   "execution_count": 4,
   "metadata": {},
   "outputs": [
    {
     "data": {
      "text/html": [
       "<div>\n",
       "<style scoped>\n",
       "    .dataframe tbody tr th:only-of-type {\n",
       "        vertical-align: middle;\n",
       "    }\n",
       "\n",
       "    .dataframe tbody tr th {\n",
       "        vertical-align: top;\n",
       "    }\n",
       "\n",
       "    .dataframe thead th {\n",
       "        text-align: right;\n",
       "    }\n",
       "</style>\n",
       "<table border=\"1\" class=\"dataframe\">\n",
       "  <thead>\n",
       "    <tr style=\"text-align: right;\">\n",
       "      <th></th>\n",
       "      <th>fever</th>\n",
       "      <th>bodyPain</th>\n",
       "      <th>age</th>\n",
       "      <th>runnyNose</th>\n",
       "      <th>diffBreath</th>\n",
       "      <th>infectionProb</th>\n",
       "      <th>Diabetes</th>\n",
       "      <th>BloodPressure</th>\n",
       "      <th>Throat_Infection</th>\n",
       "    </tr>\n",
       "  </thead>\n",
       "  <tbody>\n",
       "    <tr>\n",
       "      <th>0</th>\n",
       "      <td>102</td>\n",
       "      <td>0</td>\n",
       "      <td>9</td>\n",
       "      <td>0</td>\n",
       "      <td>-1</td>\n",
       "      <td>0</td>\n",
       "      <td>No</td>\n",
       "      <td>No</td>\n",
       "      <td>0</td>\n",
       "    </tr>\n",
       "    <tr>\n",
       "      <th>1</th>\n",
       "      <td>102</td>\n",
       "      <td>0</td>\n",
       "      <td>10</td>\n",
       "      <td>0</td>\n",
       "      <td>0</td>\n",
       "      <td>1</td>\n",
       "      <td>Yes</td>\n",
       "      <td>No</td>\n",
       "      <td>1</td>\n",
       "    </tr>\n",
       "    <tr>\n",
       "      <th>2</th>\n",
       "      <td>104</td>\n",
       "      <td>0</td>\n",
       "      <td>33</td>\n",
       "      <td>1</td>\n",
       "      <td>-1</td>\n",
       "      <td>0</td>\n",
       "      <td>Yes</td>\n",
       "      <td>No</td>\n",
       "      <td>0</td>\n",
       "    </tr>\n",
       "    <tr>\n",
       "      <th>3</th>\n",
       "      <td>101</td>\n",
       "      <td>1</td>\n",
       "      <td>59</td>\n",
       "      <td>0</td>\n",
       "      <td>1</td>\n",
       "      <td>0</td>\n",
       "      <td>Yes</td>\n",
       "      <td>No</td>\n",
       "      <td>0</td>\n",
       "    </tr>\n",
       "    <tr>\n",
       "      <th>4</th>\n",
       "      <td>99</td>\n",
       "      <td>0</td>\n",
       "      <td>98</td>\n",
       "      <td>0</td>\n",
       "      <td>0</td>\n",
       "      <td>0</td>\n",
       "      <td>No</td>\n",
       "      <td>No</td>\n",
       "      <td>0</td>\n",
       "    </tr>\n",
       "    <tr>\n",
       "      <th>...</th>\n",
       "      <td>...</td>\n",
       "      <td>...</td>\n",
       "      <td>...</td>\n",
       "      <td>...</td>\n",
       "      <td>...</td>\n",
       "      <td>...</td>\n",
       "      <td>...</td>\n",
       "      <td>...</td>\n",
       "      <td>...</td>\n",
       "    </tr>\n",
       "    <tr>\n",
       "      <th>998</th>\n",
       "      <td>102</td>\n",
       "      <td>0</td>\n",
       "      <td>16</td>\n",
       "      <td>0</td>\n",
       "      <td>-1</td>\n",
       "      <td>1</td>\n",
       "      <td>No</td>\n",
       "      <td>No</td>\n",
       "      <td>0</td>\n",
       "    </tr>\n",
       "    <tr>\n",
       "      <th>999</th>\n",
       "      <td>101</td>\n",
       "      <td>1</td>\n",
       "      <td>77</td>\n",
       "      <td>1</td>\n",
       "      <td>1</td>\n",
       "      <td>0</td>\n",
       "      <td>No</td>\n",
       "      <td>Yes</td>\n",
       "      <td>0</td>\n",
       "    </tr>\n",
       "    <tr>\n",
       "      <th>1000</th>\n",
       "      <td>102</td>\n",
       "      <td>0</td>\n",
       "      <td>47</td>\n",
       "      <td>0</td>\n",
       "      <td>-1</td>\n",
       "      <td>0</td>\n",
       "      <td>No</td>\n",
       "      <td>Yes</td>\n",
       "      <td>0</td>\n",
       "    </tr>\n",
       "    <tr>\n",
       "      <th>1001</th>\n",
       "      <td>102</td>\n",
       "      <td>0</td>\n",
       "      <td>35</td>\n",
       "      <td>1</td>\n",
       "      <td>-1</td>\n",
       "      <td>1</td>\n",
       "      <td>No</td>\n",
       "      <td>Yes</td>\n",
       "      <td>0</td>\n",
       "    </tr>\n",
       "    <tr>\n",
       "      <th>1002</th>\n",
       "      <td>99</td>\n",
       "      <td>1</td>\n",
       "      <td>91</td>\n",
       "      <td>0</td>\n",
       "      <td>-1</td>\n",
       "      <td>0</td>\n",
       "      <td>Yes</td>\n",
       "      <td>No</td>\n",
       "      <td>0</td>\n",
       "    </tr>\n",
       "  </tbody>\n",
       "</table>\n",
       "<p>1003 rows × 9 columns</p>\n",
       "</div>"
      ],
      "text/plain": [
       "      fever  bodyPain  age  runnyNose  diffBreath  infectionProb Diabetes  \\\n",
       "0       102         0    9          0          -1              0       No   \n",
       "1       102         0   10          0           0              1      Yes   \n",
       "2       104         0   33          1          -1              0      Yes   \n",
       "3       101         1   59          0           1              0      Yes   \n",
       "4        99         0   98          0           0              0       No   \n",
       "...     ...       ...  ...        ...         ...            ...      ...   \n",
       "998     102         0   16          0          -1              1       No   \n",
       "999     101         1   77          1           1              0       No   \n",
       "1000    102         0   47          0          -1              0       No   \n",
       "1001    102         0   35          1          -1              1       No   \n",
       "1002     99         1   91          0          -1              0      Yes   \n",
       "\n",
       "     BloodPressure  Throat_Infection  \n",
       "0               No                 0  \n",
       "1               No                 1  \n",
       "2               No                 0  \n",
       "3               No                 0  \n",
       "4               No                 0  \n",
       "...            ...               ...  \n",
       "998             No                 0  \n",
       "999            Yes                 0  \n",
       "1000           Yes                 0  \n",
       "1001           Yes                 0  \n",
       "1002            No                 0  \n",
       "\n",
       "[1003 rows x 9 columns]"
      ]
     },
     "metadata": {},
     "output_type": "display_data"
    }
   ],
   "source": [
    "#Merging data source - 1 & 2 and saved the results into new dataframe 'concat12_df'\n",
    "concat12_df = pd.concat([covid,additional_issues], axis=1, join='inner')\n",
    "display(concat12_df)"
   ]
  },
  {
   "cell_type": "code",
   "execution_count": 5,
   "metadata": {},
   "outputs": [
    {
     "data": {
      "text/html": [
       "<div>\n",
       "<style scoped>\n",
       "    .dataframe tbody tr th:only-of-type {\n",
       "        vertical-align: middle;\n",
       "    }\n",
       "\n",
       "    .dataframe tbody tr th {\n",
       "        vertical-align: top;\n",
       "    }\n",
       "\n",
       "    .dataframe thead th {\n",
       "        text-align: right;\n",
       "    }\n",
       "</style>\n",
       "<table border=\"1\" class=\"dataframe\">\n",
       "  <thead>\n",
       "    <tr style=\"text-align: right;\">\n",
       "      <th></th>\n",
       "      <th>Diabetes</th>\n",
       "      <th>BloodPressure</th>\n",
       "      <th>Throat_Infection</th>\n",
       "      <th>Death_Probability</th>\n",
       "      <th>Severity</th>\n",
       "    </tr>\n",
       "  </thead>\n",
       "  <tbody>\n",
       "    <tr>\n",
       "      <th>0</th>\n",
       "      <td>No</td>\n",
       "      <td>No</td>\n",
       "      <td>0</td>\n",
       "      <td>0</td>\n",
       "      <td>Low</td>\n",
       "    </tr>\n",
       "    <tr>\n",
       "      <th>1</th>\n",
       "      <td>Yes</td>\n",
       "      <td>No</td>\n",
       "      <td>1</td>\n",
       "      <td>0</td>\n",
       "      <td>Low</td>\n",
       "    </tr>\n",
       "    <tr>\n",
       "      <th>2</th>\n",
       "      <td>Yes</td>\n",
       "      <td>No</td>\n",
       "      <td>0</td>\n",
       "      <td>0</td>\n",
       "      <td>Moderate</td>\n",
       "    </tr>\n",
       "    <tr>\n",
       "      <th>3</th>\n",
       "      <td>Yes</td>\n",
       "      <td>No</td>\n",
       "      <td>0</td>\n",
       "      <td>0</td>\n",
       "      <td>Low</td>\n",
       "    </tr>\n",
       "    <tr>\n",
       "      <th>4</th>\n",
       "      <td>No</td>\n",
       "      <td>No</td>\n",
       "      <td>0</td>\n",
       "      <td>1</td>\n",
       "      <td>High</td>\n",
       "    </tr>\n",
       "    <tr>\n",
       "      <th>...</th>\n",
       "      <td>...</td>\n",
       "      <td>...</td>\n",
       "      <td>...</td>\n",
       "      <td>...</td>\n",
       "      <td>...</td>\n",
       "    </tr>\n",
       "    <tr>\n",
       "      <th>998</th>\n",
       "      <td>No</td>\n",
       "      <td>No</td>\n",
       "      <td>0</td>\n",
       "      <td>0</td>\n",
       "      <td>Low</td>\n",
       "    </tr>\n",
       "    <tr>\n",
       "      <th>999</th>\n",
       "      <td>No</td>\n",
       "      <td>Yes</td>\n",
       "      <td>0</td>\n",
       "      <td>0</td>\n",
       "      <td>Low</td>\n",
       "    </tr>\n",
       "    <tr>\n",
       "      <th>1000</th>\n",
       "      <td>No</td>\n",
       "      <td>Yes</td>\n",
       "      <td>0</td>\n",
       "      <td>0</td>\n",
       "      <td>Low</td>\n",
       "    </tr>\n",
       "    <tr>\n",
       "      <th>1001</th>\n",
       "      <td>No</td>\n",
       "      <td>Yes</td>\n",
       "      <td>0</td>\n",
       "      <td>1</td>\n",
       "      <td>High</td>\n",
       "    </tr>\n",
       "    <tr>\n",
       "      <th>1002</th>\n",
       "      <td>Yes</td>\n",
       "      <td>No</td>\n",
       "      <td>0</td>\n",
       "      <td>0</td>\n",
       "      <td>Low</td>\n",
       "    </tr>\n",
       "  </tbody>\n",
       "</table>\n",
       "<p>1003 rows × 5 columns</p>\n",
       "</div>"
      ],
      "text/plain": [
       "     Diabetes BloodPressure  Throat_Infection  Death_Probability  Severity\n",
       "0          No            No                 0                  0       Low\n",
       "1         Yes            No                 1                  0       Low\n",
       "2         Yes            No                 0                  0  Moderate\n",
       "3         Yes            No                 0                  0       Low\n",
       "4          No            No                 0                  1      High\n",
       "...       ...           ...               ...                ...       ...\n",
       "998        No            No                 0                  0       Low\n",
       "999        No           Yes                 0                  0       Low\n",
       "1000       No           Yes                 0                  0       Low\n",
       "1001       No           Yes                 0                  1      High\n",
       "1002      Yes            No                 0                  0       Low\n",
       "\n",
       "[1003 rows x 5 columns]"
      ]
     },
     "metadata": {},
     "output_type": "display_data"
    }
   ],
   "source": [
    "#Merging data source - 1 & 3 and saved the results into new dataframe 'concat13_df'\n",
    "concat13_df = pd.concat([additional_issues,file_3], axis=1, join='inner')\n",
    "display(concat13_df)"
   ]
  },
  {
   "cell_type": "code",
   "execution_count": 6,
   "metadata": {
    "scrolled": true
   },
   "outputs": [
    {
     "data": {
      "text/html": [
       "<div>\n",
       "<style scoped>\n",
       "    .dataframe tbody tr th:only-of-type {\n",
       "        vertical-align: middle;\n",
       "    }\n",
       "\n",
       "    .dataframe tbody tr th {\n",
       "        vertical-align: top;\n",
       "    }\n",
       "\n",
       "    .dataframe thead th {\n",
       "        text-align: right;\n",
       "    }\n",
       "</style>\n",
       "<table border=\"1\" class=\"dataframe\">\n",
       "  <thead>\n",
       "    <tr style=\"text-align: right;\">\n",
       "      <th></th>\n",
       "      <th>fever</th>\n",
       "      <th>bodyPain</th>\n",
       "      <th>age</th>\n",
       "      <th>runnyNose</th>\n",
       "      <th>diffBreath</th>\n",
       "      <th>infectionProb</th>\n",
       "      <th>Diabetes</th>\n",
       "      <th>BloodPressure</th>\n",
       "      <th>Throat_Infection</th>\n",
       "      <th>Death_Probability</th>\n",
       "      <th>Severity</th>\n",
       "    </tr>\n",
       "  </thead>\n",
       "  <tbody>\n",
       "    <tr>\n",
       "      <th>0</th>\n",
       "      <td>102</td>\n",
       "      <td>0</td>\n",
       "      <td>9</td>\n",
       "      <td>0</td>\n",
       "      <td>-1</td>\n",
       "      <td>0</td>\n",
       "      <td>No</td>\n",
       "      <td>No</td>\n",
       "      <td>0</td>\n",
       "      <td>0</td>\n",
       "      <td>Low</td>\n",
       "    </tr>\n",
       "    <tr>\n",
       "      <th>1</th>\n",
       "      <td>102</td>\n",
       "      <td>0</td>\n",
       "      <td>10</td>\n",
       "      <td>0</td>\n",
       "      <td>0</td>\n",
       "      <td>1</td>\n",
       "      <td>Yes</td>\n",
       "      <td>No</td>\n",
       "      <td>1</td>\n",
       "      <td>0</td>\n",
       "      <td>Low</td>\n",
       "    </tr>\n",
       "    <tr>\n",
       "      <th>2</th>\n",
       "      <td>104</td>\n",
       "      <td>0</td>\n",
       "      <td>33</td>\n",
       "      <td>1</td>\n",
       "      <td>-1</td>\n",
       "      <td>0</td>\n",
       "      <td>Yes</td>\n",
       "      <td>No</td>\n",
       "      <td>0</td>\n",
       "      <td>0</td>\n",
       "      <td>Moderate</td>\n",
       "    </tr>\n",
       "    <tr>\n",
       "      <th>3</th>\n",
       "      <td>101</td>\n",
       "      <td>1</td>\n",
       "      <td>59</td>\n",
       "      <td>0</td>\n",
       "      <td>1</td>\n",
       "      <td>0</td>\n",
       "      <td>Yes</td>\n",
       "      <td>No</td>\n",
       "      <td>0</td>\n",
       "      <td>0</td>\n",
       "      <td>Low</td>\n",
       "    </tr>\n",
       "    <tr>\n",
       "      <th>4</th>\n",
       "      <td>99</td>\n",
       "      <td>0</td>\n",
       "      <td>98</td>\n",
       "      <td>0</td>\n",
       "      <td>0</td>\n",
       "      <td>0</td>\n",
       "      <td>No</td>\n",
       "      <td>No</td>\n",
       "      <td>0</td>\n",
       "      <td>1</td>\n",
       "      <td>High</td>\n",
       "    </tr>\n",
       "    <tr>\n",
       "      <th>...</th>\n",
       "      <td>...</td>\n",
       "      <td>...</td>\n",
       "      <td>...</td>\n",
       "      <td>...</td>\n",
       "      <td>...</td>\n",
       "      <td>...</td>\n",
       "      <td>...</td>\n",
       "      <td>...</td>\n",
       "      <td>...</td>\n",
       "      <td>...</td>\n",
       "      <td>...</td>\n",
       "    </tr>\n",
       "    <tr>\n",
       "      <th>998</th>\n",
       "      <td>102</td>\n",
       "      <td>0</td>\n",
       "      <td>16</td>\n",
       "      <td>0</td>\n",
       "      <td>-1</td>\n",
       "      <td>1</td>\n",
       "      <td>No</td>\n",
       "      <td>No</td>\n",
       "      <td>0</td>\n",
       "      <td>0</td>\n",
       "      <td>Low</td>\n",
       "    </tr>\n",
       "    <tr>\n",
       "      <th>999</th>\n",
       "      <td>101</td>\n",
       "      <td>1</td>\n",
       "      <td>77</td>\n",
       "      <td>1</td>\n",
       "      <td>1</td>\n",
       "      <td>0</td>\n",
       "      <td>No</td>\n",
       "      <td>Yes</td>\n",
       "      <td>0</td>\n",
       "      <td>0</td>\n",
       "      <td>Low</td>\n",
       "    </tr>\n",
       "    <tr>\n",
       "      <th>1000</th>\n",
       "      <td>102</td>\n",
       "      <td>0</td>\n",
       "      <td>47</td>\n",
       "      <td>0</td>\n",
       "      <td>-1</td>\n",
       "      <td>0</td>\n",
       "      <td>No</td>\n",
       "      <td>Yes</td>\n",
       "      <td>0</td>\n",
       "      <td>0</td>\n",
       "      <td>Low</td>\n",
       "    </tr>\n",
       "    <tr>\n",
       "      <th>1001</th>\n",
       "      <td>102</td>\n",
       "      <td>0</td>\n",
       "      <td>35</td>\n",
       "      <td>1</td>\n",
       "      <td>-1</td>\n",
       "      <td>1</td>\n",
       "      <td>No</td>\n",
       "      <td>Yes</td>\n",
       "      <td>0</td>\n",
       "      <td>1</td>\n",
       "      <td>High</td>\n",
       "    </tr>\n",
       "    <tr>\n",
       "      <th>1002</th>\n",
       "      <td>99</td>\n",
       "      <td>1</td>\n",
       "      <td>91</td>\n",
       "      <td>0</td>\n",
       "      <td>-1</td>\n",
       "      <td>0</td>\n",
       "      <td>Yes</td>\n",
       "      <td>No</td>\n",
       "      <td>0</td>\n",
       "      <td>0</td>\n",
       "      <td>Low</td>\n",
       "    </tr>\n",
       "  </tbody>\n",
       "</table>\n",
       "<p>1003 rows × 11 columns</p>\n",
       "</div>"
      ],
      "text/plain": [
       "      fever  bodyPain  age  runnyNose  diffBreath  infectionProb Diabetes  \\\n",
       "0       102         0    9          0          -1              0       No   \n",
       "1       102         0   10          0           0              1      Yes   \n",
       "2       104         0   33          1          -1              0      Yes   \n",
       "3       101         1   59          0           1              0      Yes   \n",
       "4        99         0   98          0           0              0       No   \n",
       "...     ...       ...  ...        ...         ...            ...      ...   \n",
       "998     102         0   16          0          -1              1       No   \n",
       "999     101         1   77          1           1              0       No   \n",
       "1000    102         0   47          0          -1              0       No   \n",
       "1001    102         0   35          1          -1              1       No   \n",
       "1002     99         1   91          0          -1              0      Yes   \n",
       "\n",
       "     BloodPressure  Throat_Infection  Death_Probability  Severity  \n",
       "0               No                 0                  0       Low  \n",
       "1               No                 1                  0       Low  \n",
       "2               No                 0                  0  Moderate  \n",
       "3               No                 0                  0       Low  \n",
       "4               No                 0                  1      High  \n",
       "...            ...               ...                ...       ...  \n",
       "998             No                 0                  0       Low  \n",
       "999            Yes                 0                  0       Low  \n",
       "1000           Yes                 0                  0       Low  \n",
       "1001           Yes                 0                  1      High  \n",
       "1002            No                 0                  0       Low  \n",
       "\n",
       "[1003 rows x 11 columns]"
      ]
     },
     "metadata": {},
     "output_type": "display_data"
    }
   ],
   "source": [
    "#Merging data source - 1, 2 & 3 and saved the results into new dataframe 'concat123_df'\n",
    "concat123_df = pd.concat([covid,additional_issues,file_3], axis=1, join='inner')\n",
    "display(concat123_df)"
   ]
  },
  {
   "cell_type": "markdown",
   "metadata": {},
   "source": [
    "# DATA TRANSFORMATION AND DATA AGGREGATION/PIVOTING"
   ]
  },
  {
   "cell_type": "code",
   "execution_count": 7,
   "metadata": {},
   "outputs": [
    {
     "data": {
      "text/plain": [
       "fever                 int64\n",
       "bodyPain              int64\n",
       "age                   int64\n",
       "runnyNose             int64\n",
       "diffBreath            int64\n",
       "infectionProb         int64\n",
       "Diabetes             object\n",
       "BloodPressure        object\n",
       "Throat_Infection      int64\n",
       "Death_Probability     int64\n",
       "Severity             object\n",
       "dtype: object"
      ]
     },
     "execution_count": 7,
     "metadata": {},
     "output_type": "execute_result"
    }
   ],
   "source": [
    "#below code provides the datatype type for each column\n",
    "concat123_df.dtypes"
   ]
  },
  {
   "cell_type": "code",
   "execution_count": 8,
   "metadata": {},
   "outputs": [
    {
     "name": "stdout",
     "output_type": "stream",
     "text": [
      "                     age                     \n",
      "                    mean median  min      sum\n",
      "infectionProb                                \n",
      "0              51.454545   51.0  1.0  26602.0\n",
      "1              49.092593   49.0  1.0  23859.0\n"
     ]
    }
   ],
   "source": [
    "# Deleted the rows that are empty\n",
    "# 'new_data' dataframe is created with columns 'infectionProb' and 'age' from the 'concat123_df' dataframes\n",
    "# Here pivot_table method is used to perform mean, median, min, sum for 'age' columns based on the infection probability\n",
    "\n",
    "concat123_df.dropna(inplace = True)\n",
    "\n",
    "new_data = pd.DataFrame(concat123_df, columns= ['infectionProb','age'])\n",
    "\n",
    "Transform_1 = new_data.pivot_table(index=['infectionProb'], values=['age'], aggfunc={'sum','median','mean','min'})\n",
    "\n",
    "print (Transform_1)"
   ]
  },
  {
   "cell_type": "code",
   "execution_count": 9,
   "metadata": {},
   "outputs": [
    {
     "name": "stdout",
     "output_type": "stream",
     "text": [
      "                    fever                      \n",
      "                     mean median   min      sum\n",
      "infectionProb                                  \n",
      "0              100.829787  101.0  98.0  52129.0\n",
      "1              101.010288  101.0  98.0  49091.0\n"
     ]
    }
   ],
   "source": [
    "# 'new_data' dataframe is created with columns 'infectionProb' and 'fever' from the 'concat123_df' dataframes\n",
    "# Here pivot_table method is used to perform mean, median, min, sum for 'fever' columns based on the infection probability\n",
    "\n",
    "new_data = pd.DataFrame(concat123_df, columns= ['infectionProb','fever'])\n",
    "\n",
    "Transform_2 = new_data.pivot_table(index=['infectionProb'], values=['fever'], aggfunc={'sum','median','mean','min'})\n",
    "\n",
    "print (Transform_2)"
   ]
  },
  {
   "cell_type": "code",
   "execution_count": 10,
   "metadata": {},
   "outputs": [
    {
     "name": "stdout",
     "output_type": "stream",
     "text": [
      "                         age                     \n",
      "                        mean median  min      sum\n",
      "Death_Probability                                \n",
      "0                  50.832690   51.0  1.0  39497.0\n",
      "1                  48.513274   48.5  1.0  10964.0\n"
     ]
    }
   ],
   "source": [
    "# 'new_data' dataframe is created with columns 'Death_Probability' and 'age' from the 'concat123_df' dataframes\n",
    "# Here pivot_table method is used to perform mean, median, min, sum for 'age' columns based on the death probability\n",
    "\n",
    "new_data = pd.DataFrame(concat123_df, columns= ['Death_Probability','age'])\n",
    "\n",
    "Transform_3 = new_data.pivot_table(index=['Death_Probability'], values=['age'], aggfunc={'sum','median','mean','min'})\n",
    "\n",
    "print (Transform_3)"
   ]
  },
  {
   "cell_type": "code",
   "execution_count": 11,
   "metadata": {},
   "outputs": [
    {
     "name": "stdout",
     "output_type": "stream",
     "text": [
      "               fever                      \n",
      "                mean median   min      sum\n",
      "Severity                                  \n",
      "High      101.030973  101.0  98.0  22833.0\n",
      "Low       100.926108  101.0  98.0  61464.0\n",
      "Moderate  100.732143  101.0  98.0  16923.0\n"
     ]
    }
   ],
   "source": [
    "# 'new_data' dataframe is created with columns 'Severity' and 'fever' from the 'concat123_df' dataframes\n",
    "# Here pivot_table method is used to perform mean, median, min, sum for 'fever' columns based on the 'severity'\n",
    "\n",
    "new_data = pd.DataFrame(concat123_df, columns= ['Severity','fever'])\n",
    "\n",
    "Transform_4 = new_data.pivot_table(index=['Severity'], values=['fever'], aggfunc={'sum','median','mean','min'})\n",
    "\n",
    "print (Transform_4)"
   ]
  },
  {
   "cell_type": "code",
   "execution_count": 12,
   "metadata": {},
   "outputs": [
    {
     "name": "stdout",
     "output_type": "stream",
     "text": [
      "                age                     \n",
      "               mean median  min      sum\n",
      "Severity                                \n",
      "High      48.513274   48.5  1.0  10964.0\n",
      "Low       50.339901   50.0  1.0  30657.0\n",
      "Moderate  52.619048   52.5  1.0   8840.0\n"
     ]
    }
   ],
   "source": [
    "# 'new_data' dataframe is created with columns 'Severity' and 'age' from the 'concat123_df' dataframes\n",
    "# Here pivot_table method is used to perform mean, median, min, sum for 'age' columns based on the severity\n",
    "\n",
    "new_data = pd.DataFrame(concat123_df, columns= ['Severity','age'])\n",
    "\n",
    "Transform_5 = new_data.pivot_table(index=['Severity'], values=['age'], aggfunc={'sum','median','mean','min'})\n",
    "\n",
    "print (Transform_5)"
   ]
  },
  {
   "cell_type": "code",
   "execution_count": 13,
   "metadata": {},
   "outputs": [
    {
     "name": "stdout",
     "output_type": "stream",
     "text": [
      "                        fever                      \n",
      "                         mean median   min      sum\n",
      "Death_Probability                                  \n",
      "0                  100.884170  101.0  98.0  78387.0\n",
      "1                  101.030973  101.0  98.0  22833.0\n"
     ]
    }
   ],
   "source": [
    "# 'new_data' dataframe is created with columns 'Death Probability' and 'fever' from the 'concat123_df' dataframes\n",
    "# Here pivot_table method is used to perform mean, median, min, sum for 'fever' columns based on the Death Probability\n",
    "\n",
    "new_data = pd.DataFrame(concat123_df, columns= ['Death_Probability','fever'])\n",
    "\n",
    "Transform_6 = new_data.pivot_table(index=['Death_Probability'], values=['fever'], aggfunc={'sum','median','mean','min'})\n",
    "\n",
    "print (Transform_6)"
   ]
  },
  {
   "cell_type": "markdown",
   "metadata": {},
   "source": [
    "# DATA VISUALIZATION, PROBLEM APPLICABILITY, MODULARITY AND DOCUMENTATION & PROFESSIONALISM"
   ]
  },
  {
   "cell_type": "code",
   "execution_count": 14,
   "metadata": {},
   "outputs": [
    {
     "data": {
      "text/plain": [
       "array([[<matplotlib.axes._subplots.AxesSubplot object at 0x7f42694a8a90>,\n",
       "        <matplotlib.axes._subplots.AxesSubplot object at 0x7f4265f60208>,\n",
       "        <matplotlib.axes._subplots.AxesSubplot object at 0x7f4265f90470>],\n",
       "       [<matplotlib.axes._subplots.AxesSubplot object at 0x7f4265f3e6d8>,\n",
       "        <matplotlib.axes._subplots.AxesSubplot object at 0x7f4265eee940>,\n",
       "        <matplotlib.axes._subplots.AxesSubplot object at 0x7f4265ea1ba8>],\n",
       "       [<matplotlib.axes._subplots.AxesSubplot object at 0x7f4265ed5e10>,\n",
       "        <matplotlib.axes._subplots.AxesSubplot object at 0x7f4265e95080>,\n",
       "        <matplotlib.axes._subplots.AxesSubplot object at 0x7f4265e950f0>]],\n",
       "      dtype=object)"
      ]
     },
     "execution_count": 14,
     "metadata": {},
     "output_type": "execute_result"
    },
    {
     "data": {
      "image/png": "[encoded data removed]",
      "text/plain": [
       "<Figure size 1440x1440 with 9 Axes>"
      ]
     },
     "metadata": {
      "needs_background": "light"
     },
     "output_type": "display_data"
    }
   ],
   "source": [
    "#Code to display histogram plot for all the columns in 'concat123_df'\n",
    "concat123_df.hist(figsize=(20,20))"
   ]
  },
  {
   "cell_type": "code",
   "execution_count": 15,
   "metadata": {},
   "outputs": [],
   "source": [
    "#imported the required libraries to generate barplot, piechart, catplot\n",
    "import matplotlib.pyplot as plt\n",
    "import seaborn as sns\n",
    "\n",
    "#defined the function to generate barplot and reuse it as many times as needed.\n",
    "def barplot(a,b,X,Y,title):\n",
    "    plt.figure(figsize=(15, 8))\n",
    "    plt.title(title, fontsize=30)\n",
    "    plt.ylabel(Y, fontsize=20)\n",
    "    plt.xlabel(X, fontsize=20)\n",
    "    plt.xticks(rotation=90)\n",
    "    plt.bar(b,a)\n",
    "    plt.show()\n",
    "\n",
    "#defined the function to generate piechart and reuse it as many times as needed.   \n",
    "def draw_pie_chart(a, b,new_df):\n",
    "    df = new_df[[a, b]]\n",
    "    df= df.groupby([a]).agg({b: sum})\n",
    "    df.plot.pie(y=b, figsize=(15, 15))\n",
    "    \n",
    "#defined the function to generate catplot and reuse it as many times as needed.    \n",
    "def catplot(a,b,df):\n",
    "    sns.catplot(x=a, y=b, data=df)"
   ]
  },
  {
   "cell_type": "code",
   "execution_count": 16,
   "metadata": {},
   "outputs": [
    {
     "data": {
      "image/png": "[encoded data removed]",
      "text/plain": [
       "<Figure size 360x360 with 1 Axes>"
      ]
     },
     "metadata": {
      "needs_background": "light"
     },
     "output_type": "display_data"
    }
   ],
   "source": [
    "#Here df is dataframe, data1 feature is the X-axis and data2 feature is the Y-axis\n",
    "#Referred/called catplot function implemented in the previous cell\n",
    "\n",
    "df=concat123_df\n",
    "data1=\"Severity\"\n",
    "data2=\"age\"\n",
    "catplot(data1,data2,df)"
   ]
  },
  {
   "cell_type": "markdown",
   "metadata": {},
   "source": [
    "The above image describes the catplot between age vs severity. Catplot indicates that in majority cases have low severity by different age groups then follows the high and moderate serverity in terms of frequency of occurrence."
   ]
  },
  {
   "cell_type": "code",
   "execution_count": 17,
   "metadata": {},
   "outputs": [
    {
     "data": {
      "image/png": "[encoded data removed]",
      "text/plain": [
       "<Figure size 1080x576 with 1 Axes>"
      ]
     },
     "metadata": {
      "needs_background": "light"
     },
     "output_type": "display_data"
    }
   ],
   "source": [
    "#Here data1 feature is the Y-axis and data2 feature is the X-axis\n",
    "#X_axis and Y_axis are the strings that need to be displayed in X and Y-axis as labels. title is the name of the chart.\n",
    "#Referred/called barplot function implemented in the previous cell\n",
    "\n",
    "data1=concat123_df['fever']\n",
    "data2=concat123_df['Severity']\n",
    "X_axis=\"Severity\"\n",
    "Y_axis=\"Fever\"\n",
    "title=\"Severity By Age\"\n",
    "barplot(data1,data2,X_axis,Y_axis,title)"
   ]
  },
  {
   "cell_type": "code",
   "execution_count": 18,
   "metadata": {},
   "outputs": [
    {
     "data": {
      "image/png": "[encoded data removed]",
      "text/plain": [
       "<Figure size 1080x576 with 1 Axes>"
      ]
     },
     "metadata": {
      "needs_background": "light"
     },
     "output_type": "display_data"
    }
   ],
   "source": [
    "#Here data1 feature is the Y-axis and data2 feature is the X-axis\n",
    "#X_axis and Y_axis are the strings that need to be displayed in X and Y-axis as labels. title is the name of the chart.\n",
    "#Referred/called barplot function implemented in the previous cell\n",
    "\n",
    "data1=concat123_df['age']\n",
    "data2=concat123_df['infectionProb']\n",
    "X_axis=\"Infection Probability\"\n",
    "Y_axis=\"Age\"\n",
    "title=\"Infection Probability by Age\"\n",
    "barplot(data1,data2,X_axis,Y_axis,title)"
   ]
  },
  {
   "cell_type": "code",
   "execution_count": 19,
   "metadata": {},
   "outputs": [
    {
     "data": {
      "image/png": "[encoded data removed]",
      "text/plain": [
       "<Figure size 1080x1080 with 1 Axes>"
      ]
     },
     "metadata": {},
     "output_type": "display_data"
    }
   ],
   "source": [
    "#Here data2 feature 'age' is added and grouped based on the data1 feature 'Severity'.\n",
    "#Referred/called barplot function implemented in the previous cell\n",
    "data1=\"Severity\"\n",
    "data2=\"age\"\n",
    "df=concat123_df\n",
    "draw_pie_chart(data1,data2,df)"
   ]
  },
  {
   "cell_type": "markdown",
   "metadata": {},
   "source": [
    "The above pie chart indicates the sum of age for each severity type."
   ]
  },
  {
   "cell_type": "code",
   "execution_count": 20,
   "metadata": {},
   "outputs": [
    {
     "data": {
      "image/png": "[encoded data removed]",
      "text/plain": [
       "<Figure size 1080x1080 with 1 Axes>"
      ]
     },
     "metadata": {},
     "output_type": "display_data"
    }
   ],
   "source": [
    "#Here data2 feature 'age' is added and grouped based on the data1 feature 'Severity'.\n",
    "#Referred/called barplot function implemented in the previous cell\n",
    "data1=\"Death_Probability\"\n",
    "data2=\"age\"\n",
    "df=concat123_df\n",
    "draw_pie_chart(data1,data2,df)"
   ]
  },
  {
   "cell_type": "markdown",
   "metadata": {},
   "source": [
    "The above pie chart indicates the sum of age for Death Probability indicator."
   ]
  },
  {
   "cell_type": "markdown",
   "metadata": {},
   "source": [
    "    "
   ]
  },
  {
   "cell_type": "markdown",
   "metadata": {},
   "source": [
    "Here, I have created a class called Covid_19 and inside it functions like fever, infecSeverity and deathProb are defined.\n",
    "\n",
    "Below are the conditions given inside the function fever- 1) if fever is less than or equal to 98 then the tempature is negligible/No temperature. 2) if fever is greater than or equal to 98 and less than or equal to 100 then the tempature is considered as normal. 3) if fever is greater than or equal to 100 then the temperature is high.\n",
    "\n",
    "Below are the conditions given inside the function infecSeverity- 1) if age is less than or equal to 40 then the infection rate/Severity is low. 2) if age is greater than or equal to 40 and less than or equal to 48 then the infection rate/Severity is moderate. 3) if age is greater than or equal to 48 then the infection rate/Severity is high.\n",
    "\n",
    "Below are the conditions given inside the function deathProb- 1) if severity is 'high' then the death probability is more. 2) if severity is 'moderate' then the death probability is minimal. 3) if severity is 'low' then the death probability is less."
   ]
  },
  {
   "cell_type": "code",
   "execution_count": 21,
   "metadata": {},
   "outputs": [],
   "source": [
    "class Covid_19:\n",
    "    def __init__(self,n):\n",
    "        self.covid = n\n",
    "        \n",
    "    def fever(self):\n",
    "        if self.covid <=98 :\n",
    "            return \"No Temperature\"\n",
    "        elif self.covid >=98  and self.covid <=100 :\n",
    "            return \"Normal Temperature\"\n",
    "        elif self.covid >=100:\n",
    "            return \"High Temperature\"\n",
    "        \n",
    "    def infecSeverity(self):\n",
    "        if self.covid <=40 :\n",
    "            return \"Low Severity\"\n",
    "        elif self.covid >=40  and self.covid <=48 :\n",
    "            return \"Moderate Severity\"\n",
    "        elif self.covid >=48:\n",
    "            return \"High Severity\"\n",
    "        \n",
    "    def deathProb(self):\n",
    "        if self.covid ==\"high\" :\n",
    "            return \"Danger for Life\"\n",
    "        elif self.covid ==\"moderate\" :\n",
    "            return \"Need to be careful\"\n",
    "        elif self.covid ==\"low\":\n",
    "            return \"No need to Worry\"\n",
    "        \n",
    "   "
   ]
  },
  {
   "cell_type": "code",
   "execution_count": 22,
   "metadata": {},
   "outputs": [
    {
     "name": "stdin",
     "output_type": "stream",
     "text": [
      "Please select from below options: \n",
      "                    1.Fever\n",
      "                    2.Infection Severity\n",
      "                    3.Death Probability\n",
      "                      2\n",
      "Enter the age :  43\n"
     ]
    },
    {
     "name": "stdout",
     "output_type": "stream",
     "text": [
      "Moderate Severity\n"
     ]
    }
   ],
   "source": [
    "# Here 're' library is imported.\n",
    "# Below code used to call the functions defined in the previous cell based on user input. \n",
    "# Here we can choose/select function that user wants to execute.\n",
    "import re\n",
    "while(True):\n",
    "    choose = input(\"\"\"Please select from below options: \n",
    "                    1.Fever\n",
    "                    2.Infection Severity\n",
    "                    3.Death Probability\n",
    "                     \"\"\" )\n",
    "    if(not(re.findall(\"[1-3]\",choose))):\n",
    "        print(\"Select option from 1 to 3 numbers\")\n",
    "    else:\n",
    "        break\n",
    "try:\n",
    "\n",
    "    if choose == \"1\":\n",
    "        temp = Covid_19(int(input(\"Enter the temperature : \")))\n",
    "        print(temp.fever())\n",
    "    elif choose == \"2\":\n",
    "        age = Covid_19(int(input(\"Enter the age : \")))\n",
    "        print(age.infecSeverity())\n",
    "    elif choose == \"3\":\n",
    "        severity = Covid_19(input(\"Enter the Severity : \"))\n",
    "        print(severity.deathProb())\n",
    "except:\n",
    "    print(\"Error occured.\")"
   ]
  },
  {
   "cell_type": "code",
   "execution_count": null,
   "metadata": {},
   "outputs": [],
   "source": [
    "a=input('''\n",
    "Are you ready to submit your work?\n",
    "1. Click the Save icon (or do Ctrl-S / Cmd-S)\n",
    "2. Type \"yes\" or \"no\" below\n",
    "3. Press Enter\n",
    "\n",
    "''')\n",
    "\n",
    "if a=='yes':\n",
    "    !git add final.ipynb\n",
    "    !git commit -a -m \"Submitting the final.ipynb\"\n",
    "    !git push\n",
    "else:\n",
    "    print('''\n",
    "    \n",
    "OK. We can wait.\n",
    "''')"
   ]
  }
 ],
 "metadata": {
  "kernelspec": {
   "display_name": "Python 3",
   "language": "python",
   "name": "python3"
  },
  "language_info": {
   "codemirror_mode": {
    "name": "ipython",
    "version": 3
   },
   "file_extension": ".py",
   "mimetype": "text/x-python",
   "name": "python",
   "nbconvert_exporter": "python",
   "pygments_lexer": "ipython3",
   "version": "3.7.6"
  }
 },
 "nbformat": 4,
 "nbformat_minor": 4
}
